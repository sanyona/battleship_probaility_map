{
 "cells": [
  {
   "cell_type": "markdown",
   "metadata": {
    "editable": true,
    "slideshow": {
     "slide_type": ""
    },
    "tags": []
   },
   "source": [
    "## Map state/block"
   ]
  },
  {
   "cell_type": "code",
   "execution_count": 196,
   "metadata": {},
   "outputs": [],
   "source": [
    "from enum import Enum\n",
    "import itertools\n",
    "import numpy as np\n",
    "import pandas as pd\n",
    "from typing import Set, List, Tuple\n",
    "class MapState(Enum):\n",
    "    blank = 0 # can be anything here\n",
    "    structure = 1 # confirmed complete structure\n",
    "    hit = 7 # unconfirmed if has structure\n",
    "    hit_confirmed = 8 # confirmed has structure with a hit (a structure has to be here but blocksize is unknown) could also be a decoy\n",
    "    hit_miss = 9 # confirmed no structure (structure can't be here)\n",
    "    decoy = 2 # decoy is put down\n"
   ]
  },
  {
   "cell_type": "code",
   "execution_count": 197,
   "metadata": {},
   "outputs": [],
   "source": [
    "class MapBlock:\n",
    "    def __init__(self, dimx:int, dimy: int, is_decoy:bool = False):\n",
    "        self.x = dimx\n",
    "        self.y = dimy\n",
    "        self.is_decoy = is_decoy\n",
    "\n",
    "    def __str__(self) -> str:\n",
    "        return f\"{self.x} x {self.y} {'decoy' if self.is_decoy else ''}\"\n",
    "    \n",
    "    def __repr__(self):\n",
    "        return self.__str__()\n",
    "\n",
    "    def __hash__(self) -> int:\n",
    "        return hash((self.x, self.y))\n",
    "    \n",
    "    def rotate(self, direction: int):\n",
    "        if self.x==self.y:\n",
    "            return\n",
    "         \n",
    "        dimx, dimy = self.x, self.y\n",
    "        self.x = dimx if dimx < dimy else dimy\n",
    "        self.y = dimy if dimx < dimy else dimx\n",
    "        if direction == 1:\n",
    "            self.x, self.y = self.y, self.x\n"
   ]
  },
  {
   "cell_type": "markdown",
   "metadata": {},
   "source": [
    "## Map"
   ]
  },
  {
   "cell_type": "code",
   "execution_count": 198,
   "metadata": {},
   "outputs": [],
   "source": [
    "\n",
    "class BattleshipMap:\n",
    "    def __init__(self, width = 10, height = 10):\n",
    "        # blank map!\n",
    "        self.width = width\n",
    "        self.height = height\n",
    "        self.map  = [ [MapState.blank.value for _ in range(width)] for _ in range(height)]  \n",
    "        self.confirmed_hits: Set = set()\n",
    "    \n",
    "    def __str__(self) -> str:\n",
    "        ylabel = [chr(i) for i in range(74,64,-1)]\n",
    "\n",
    "        return_str = ''\n",
    "        for i ,row in enumerate(self.map):\n",
    "            return_str += f\"{ylabel[i]} {str(row)}\\n\"\n",
    "        xlabel = \", \".join(map(str, (range(1,11))))\n",
    "        return_str += f\"   {xlabel} \"\n",
    "        return return_str\n",
    "    \n",
    "    def _is_oob(self, x: int, y:int):\n",
    "        \"\"\"is coords out of bounds\n",
    "\n",
    "        Args:\n",
    "            x (int): _description_\n",
    "            y (int): _description_\n",
    "\n",
    "        Returns:\n",
    "            _type_: _description_\n",
    "        \"\"\"\n",
    "        if x < 0 or y < 0 or x > self.height or y > self.width:\n",
    "            return True\n",
    "        return False\n",
    "    \n",
    "\n",
    "    def is_droppable(self, x:int, y:int, block: MapBlock) -> bool:\n",
    "        \"\"\"Can a block be dropped at this coordinate\n",
    "        - if any coord in the block is structure/confirmed miss, can't drop\n",
    "        - if all coords in the block is hit, can't drop, unless it's a decoy\n",
    "\n",
    "        Args:\n",
    "            x (int): _description_\n",
    "            y (int): _description_\n",
    "            block (MapBlock): _description_\n",
    "\n",
    "        Returns:\n",
    "            bool: _description_\n",
    "        \"\"\"\n",
    "        if self._is_oob(x+block.x, y+block.y):\n",
    "            return False  \n",
    "\n",
    "        # get all coords this block occupies\n",
    "        coords = list(itertools.product(\n",
    "            range(x, x+block.x), \n",
    "            range(y, y+block.y)))\n",
    "\n",
    "        all_hit = True\n",
    "        all_hit2 = True\n",
    "        for x,y in coords:\n",
    "            if ( self.is_state(x,y, MapState.structure) or # if there's other structure\n",
    "                self.is_state(x,y, MapState.hit_miss) # confirmed empty\n",
    "            ):\n",
    "                return False # occupied or confirmed empty, go next \n",
    "            \n",
    "            # check if the entire place has been hit, then we can't put a map block \n",
    "            all_hit = all_hit and ( self.is_state(x,y,MapState.hit) or self.is_state(x,y,MapState.hit_confirmed))\n",
    "        \n",
    "        \n",
    "        # TODO, but can we put decoys?\n",
    "        # Assumption is that we don't know other teams hit a decoy; so decoys can be where map is hit\n",
    "        # Else, decoys can't be where map is hit by other team and remove last bool statement \n",
    "        if all_hit and block.is_decoy == False:\n",
    "            return False\n",
    "        # if all_hit2 and block.is_decoy == False:\n",
    "        #     return False\n",
    "        \n",
    "        return True\n",
    "\n",
    "\n",
    "    def get_confirmed_hits(self):\n",
    "        return self.confirmed_hits\n",
    "    \n",
    "\n",
    "    def get_constrained_drop_coords(self, block: MapBlock, constraints: List[Tuple[int]]) -> List[Tuple[int]]: \n",
    "        \"\"\"find all coordinate where a map block can be dropped and covers constraints\n",
    "\n",
    "        Args:\n",
    "            block (MapBlock): _description_\n",
    "            constraints (List[Tuple[int]]): _description_\n",
    "\n",
    "        Returns:\n",
    "            List[Tuple[int]]: _description_\n",
    "        \"\"\" \n",
    "        # the box has to cover all coords in constraints\n",
    "        setx = set(range(self.height))\n",
    "        sety = set(range(self.width))\n",
    "\n",
    "        for x,y in constraints:\n",
    "            setx = setx.intersection(set(range( x - block.x+1, x+1)))\n",
    "            sety = sety.intersection(set(range( y - block.y+1, y+1))) \n",
    "         \n",
    "        if not setx or not sety:\n",
    "            return []\n",
    "        \n",
    "        # all coords where block can be with the constraint\n",
    "        coords = list(itertools.product(setx, sety)) \n",
    "        \n",
    "        return [c for c in coords if self.is_droppable(*c, block)]\n",
    "\n",
    "    def get_drop_coords(self, block: MapBlock) -> list:\n",
    "        \"\"\"find all coordinate where a map block can be dropped\n",
    "\n",
    "        Args:\n",
    "            block (MapBlock): _description_\n",
    "        Returns:\n",
    "            list: _description_\n",
    "        \"\"\"\n",
    "        droppable_coords = list()\n",
    "        for i in range(self.height):\n",
    "            for j in range(self.width):\n",
    "                # can we drop a block at i,j ? \n",
    "                if self.is_droppable(i, j, block):\n",
    "                    droppable_coords.append((i,j))\n",
    "\n",
    "        return droppable_coords\n",
    "                \n",
    " \n",
    "    def drop_block(self, x:int, y:int, block: MapBlock):  \n",
    "        \"\"\"Drop a block, assumes it's a legal location\n",
    "\n",
    "        Args:\n",
    "            x (int): _description_\n",
    "            y (int): _description_\n",
    "            block (MapBlock): _description_\n",
    "        \"\"\"\n",
    "\n",
    "        coords = list(itertools.product(\n",
    "            range(x, x+block.x) , \n",
    "            range(y, y+block.y)\n",
    "            ))\n",
    "        \n",
    "        for i, j in coords:\n",
    "            state = MapState.structure if not block.is_decoy else MapState.decoy\n",
    "            self.set_state(i, j, state)\n",
    "\n",
    "\n",
    "    def get_normalized_map(self) -> np.array:\n",
    "        \"\"\"get normalized map as a numpy array\n",
    "        change MapState.hit and MapState.decoy to 0 as they are treated as no building\n",
    "\n",
    "        Returns:\n",
    "            np.array: _description_\n",
    "        \"\"\"\n",
    "        # the confirmed hits should be replaced by a building \n",
    "        assert len(self.confirmed_hits) == 0\n",
    "\n",
    "        np_map = np.array(self.map)\n",
    "        np_map = np.where(\n",
    "            (np_map ==MapState.hit.value) \n",
    "            |(np_map ==MapState.decoy.value)\n",
    "            |(np_map ==MapState.hit_miss.value), 0, np_map)\n",
    "        return np_map\n",
    "\n",
    "    def set_state(self, x:int, y:int, map_state: MapState):\n",
    "        if self._is_oob(x,y):\n",
    "            print(\"out of bounds!\") # honestly this shouldnt happen\n",
    "            return -1 \n",
    "        \n",
    "        if map_state == MapState.hit_confirmed:\n",
    "            self.confirmed_hits.add((x,y))\n",
    "        elif self.get_state(x,y) == MapState.hit_confirmed and map_state != MapState.hit_confirmed:\n",
    "            self.confirmed_hits.remove((x,y))\n",
    "\n",
    "        self.map[x][y] = map_state.value \n",
    "\n",
    "    def is_state(self, x:int, y:int, map_state: MapState):\n",
    "        return self.map[x][y] == map_state.value\n",
    "    \n",
    "    def get_state(self, x:int, y:int) -> MapState:\n",
    "        return MapState(self.map[x][y])\n",
    "    \n",
    "    def __hash__(self) -> int:\n",
    "        return hash(tuple(tuple(row) for row in self.map))\n",
    "\n",
    "    def __repr__(self):\n",
    "        return self.__str__()\n",
    "\n",
    "\n"
   ]
  },
  {
   "cell_type": "code",
   "execution_count": 199,
   "metadata": {},
   "outputs": [
    {
     "data": {
      "text/plain": [
       "(J [0, 1, 7, 7, 9, 2, 0, 0, 0, 0]\n",
       " I [0, 0, 0, 0, 0, 0, 0, 0, 0, 0]\n",
       " H [0, 0, 0, 0, 0, 0, 0, 0, 0, 0]\n",
       " G [0, 0, 0, 0, 0, 0, 0, 0, 0, 0]\n",
       " F [0, 0, 0, 0, 0, 0, 0, 0, 0, 0]\n",
       " E [0, 0, 0, 0, 0, 0, 0, 0, 0, 0]\n",
       " D [0, 0, 0, 0, 0, 0, 0, 0, 0, 0]\n",
       " C [0, 0, 0, 0, 0, 0, 0, 0, 0, 0]\n",
       " B [0, 0, 0, 0, 0, 0, 0, 0, 0, 0]\n",
       " A [0, 0, 0, 0, 0, 0, 0, 0, 0, 0]\n",
       "    1, 2, 3, 4, 5, 6, 7, 8, 9, 10 ,\n",
       " array([[0, 1, 0, 0, 0, 0, 0, 0, 0, 0],\n",
       "        [0, 0, 0, 0, 0, 0, 0, 0, 0, 0],\n",
       "        [0, 0, 0, 0, 0, 0, 0, 0, 0, 0],\n",
       "        [0, 0, 0, 0, 0, 0, 0, 0, 0, 0],\n",
       "        [0, 0, 0, 0, 0, 0, 0, 0, 0, 0],\n",
       "        [0, 0, 0, 0, 0, 0, 0, 0, 0, 0],\n",
       "        [0, 0, 0, 0, 0, 0, 0, 0, 0, 0],\n",
       "        [0, 0, 0, 0, 0, 0, 0, 0, 0, 0],\n",
       "        [0, 0, 0, 0, 0, 0, 0, 0, 0, 0],\n",
       "        [0, 0, 0, 0, 0, 0, 0, 0, 0, 0]]))"
      ]
     },
     "execution_count": 199,
     "metadata": {},
     "output_type": "execute_result"
    }
   ],
   "source": [
    "# default map/blocks\n",
    "tmap= BattleshipMap()\n",
    "for i, state in enumerate(MapState):\n",
    "    tmap.set_state(0,i, state) \n",
    "tmap.set_state(0, 3, MapState.hit) \n",
    "\n",
    "tmap, tmap.get_normalized_map()\n",
    "\n"
   ]
  },
  {
   "cell_type": "code",
   "execution_count": 200,
   "metadata": {},
   "outputs": [],
   "source": [
    "# blocks\n",
    "block_sizes = [(2,2)] * 5 + [(3,3)]  + [(1,3)]*3\n",
    "decoy_sizes = [(1,1)]*4\n",
    "blocks = [MapBlock(*size) for size in block_sizes]  + [MapBlock(*size, is_decoy=True) for size in decoy_sizes]  "
   ]
  },
  {
   "cell_type": "markdown",
   "metadata": {},
   "source": [
    "## Map generator "
   ]
  },
  {
   "cell_type": "code",
   "execution_count": 201,
   "metadata": {},
   "outputs": [],
   "source": [
    "\n",
    "import itertools\n",
    "from copy import deepcopy"
   ]
  },
  {
   "cell_type": "code",
   "execution_count": 202,
   "metadata": {},
   "outputs": [],
   "source": [
    "\n",
    "all_maps = list()\n",
    "past_blocks_data = set()\n",
    "\n",
    "def fit_block(bmap: BattleshipMap, blocks: list[MapBlock]):\n",
    "    if len(blocks) == 0:\n",
    "        # finished putting \n",
    "        # print(\"Finished blocks!\")\n",
    "        map_cpy = deepcopy(bmap)  \n",
    "        all_maps.append(map_cpy)\n",
    "        return\n",
    "\n",
    "    block: MapBlock = blocks.pop()\n",
    "\n",
    "    for i in range(bmap.height):\n",
    "        for j in range(bmap.width):\n",
    "            # drop a block at i,j \n",
    "            if not bmap.is_droppable(i,j, block):\n",
    "                continue\n",
    "\n",
    "            # get all coords this block occupies\n",
    "            coords = list(itertools.product(range(i, i+block.x) , range(j, j+block.y))) \n",
    "            \n",
    "            # its droppable\n",
    "            # keep track of old state\n",
    "            old_state = {c: bmap.get_state(c[0], c[1]) for c in coords}\n",
    "\n",
    "            # drop block on map\n",
    "            bmap.drop_block(i, j, block) \n",
    "\n",
    "\n",
    "            # print(f\"dropping block {block} at {(i,j)} with {coords}\")\n",
    "            # print(template)\n",
    "\n",
    "            # memoization\n",
    "            if (bmap, tuple(blocks)) in past_blocks_data:\n",
    "                for x,y in coords:\n",
    "                    bmap.set_state(x,y, old_state[(x,y)]) \n",
    "                continue\n",
    "            # memoization\n",
    "            past_blocks_data.add( (bmap, tuple(blocks)))\n",
    "\n",
    "            fit_block(bmap, blocks)\n",
    "\n",
    "            # return to original state\n",
    "            for x,y in coords:\n",
    "                bmap.set_state(x,y, old_state[(x,y)]) \n",
    "    \n",
    "    blocks.append(block)\n"
   ]
  },
  {
   "cell_type": "markdown",
   "metadata": {},
   "source": [
    "## trial run for generator"
   ]
  },
  {
   "cell_type": "code",
   "execution_count": 203,
   "metadata": {},
   "outputs": [],
   "source": [
    "# vahumana map\n",
    "trial_map = BattleshipMap()\n",
    "for i in range(4,7):\n",
    "    for j in range(1,4):\n",
    "        trial_map.set_state(i,j, MapState.structure)\n",
    "        \n",
    "map_blocks = [(6,6),[4,4],[4,4]]\n",
    "\n",
    "decoy_blocks = []\n",
    "trial_blocks = [MapBlock(*size) for size in map_blocks]  + [MapBlock(*size, is_decoy=True) for size in decoy_blocks] \n",
    "trial_blocks\n",
    "\n",
    "all_maps = list()\n",
    "past_blocks_data = set()\n",
    "fit_block(trial_map, trial_blocks) \n"
   ]
  },
  {
   "cell_type": "code",
   "execution_count": 184,
   "metadata": {},
   "outputs": [
    {
     "data": {
      "text/plain": [
       "9"
      ]
     },
     "execution_count": 184,
     "metadata": {},
     "output_type": "execute_result"
    }
   ],
   "source": [
    "len(all_maps)"
   ]
  },
  {
   "cell_type": "markdown",
   "metadata": {
    "jp-MarkdownHeadingCollapsed": true
   },
   "source": [
    "## Set up vahumana map"
   ]
  },
  {
   "cell_type": "code",
   "execution_count": 11,
   "metadata": {},
   "outputs": [
    {
     "name": "stdout",
     "output_type": "stream",
     "text": [
      "J [0, 0, 0, 0, 0, 0, 0, 0, 7, 0]\n",
      "I [0, 0, 0, 0, 0, 0, 0, 0, 7, 0]\n",
      "H [0, 0, 0, 0, 0, 0, 0, 7, 7, 0]\n",
      "G [0, 0, 0, 0, 0, 0, 0, 0, 0, 0]\n",
      "F [0, 1, 1, 1, 0, 0, 0, 0, 0, 0]\n",
      "E [0, 1, 1, 1, 0, 0, 0, 0, 0, 0]\n",
      "D [0, 1, 1, 1, 0, 0, 0, 7, 0, 0]\n",
      "C [0, 0, 7, 0, 0, 0, 0, 0, 0, 0]\n",
      "B [0, 7, 0, 0, 0, 0, 0, 0, 0, 0]\n",
      "A [0, 0, 0, 0, 0, 0, 0, 0, 0, 0]\n",
      "   1, 2, 3, 4, 5, 6, 7, 8, 9, 10 \n"
     ]
    }
   ],
   "source": [
    "# vahumana map\n",
    "vahumana = BattleshipMap()\n",
    "for i in range(4,7):\n",
    "    for j in range(1,4):\n",
    "        vahumana.set_state(i,j, MapState.structure)\n",
    "\n",
    "hit_coords = [(7,2), (8, 1), (6,7),(2,7), (0,8), (1,8), (2,8)]\n",
    "for x,y in hit_coords:\n",
    "    vahumana.set_state(x,y, MapState.hit)\n",
    "print(vahumana)"
   ]
  },
  {
   "cell_type": "code",
   "execution_count": 12,
   "metadata": {},
   "outputs": [
    {
     "name": "stdout",
     "output_type": "stream",
     "text": [
      "[2 x 2 , 2 x 2 , 2 x 2 , 2 x 2 , 2 x 2 , 1 x 3 , 1 x 3 , 1 x 3 , 1 x 1 decoy, 1 x 1 decoy, 1 x 1 decoy, 1 x 1 decoy]\n"
     ]
    }
   ],
   "source": [
    "map_blocks = [(2,2)] * 5  + [(1,3)]*3\n",
    "# map_blocks =  [(1,3)]*3\n",
    "decoy_blocks = [(1,1)]*4 \n",
    "# decoy_blocks = []\n",
    "vahumana_blocks = [MapBlock(*size) for size in map_blocks]  + [MapBlock(*size, is_decoy=True) for size in decoy_blocks] \n",
    "print(vahumana_blocks)"
   ]
  },
  {
   "cell_type": "markdown",
   "metadata": {},
   "source": [
    "## battle class"
   ]
  },
  {
   "cell_type": "code",
   "execution_count": 204,
   "metadata": {},
   "outputs": [],
   "source": [
    "class Battle:\n",
    "    def __init__(self,  blocks: List[MapBlock]):\n",
    "        self.bmap = BattleshipMap()\n",
    "        self.blocks = blocks\n",
    "        self.structure = list()\n",
    "        self.hits = []\n",
    "        self.hits_confirmed = []\n",
    "        self.hits_miss = []\n",
    "        self.attacks = 0\n",
    "\n",
    "    def convert_coords(self, map_coord: tuple):\n",
    "        \"\"\"convert map coord (A,1) to array coord (9,0)\n",
    "    \n",
    "        Args:\n",
    "            map_coord (tuple): _description_\n",
    "        \"\"\" \n",
    "        return -ord(map_coord[0])+74, map_coord[1] - 1\n",
    "\n",
    "    \n",
    "    def add_structure(self, coords: List[Tuple]):\n",
    "        array_coords = [self.convert_coords(c) for c in coords]\n",
    "        for x,y in array_coords:\n",
    "            self.bmap.set_state(x,y, MapState.structure)\n",
    "        self.structure += array_coords\n",
    "\n",
    "    def add_hit(self, coords: List[Tuple]):\n",
    "        array_coords = [self.convert_coords(c) for c in coords]\n",
    "        for x,y in array_coords:\n",
    "            self.bmap.set_state(x,y, MapState.hit)\n",
    "        self.hits += array_coords\n",
    "\n",
    "    def add_self_hit(self, coords: List[Tuple], miss: bool):\n",
    "        array_coords = [self.convert_coords(c) for c in coords]\n",
    "        state = MapState.hit_miss if miss else MapState.hit_confirmed\n",
    "        for x,y in array_coords:\n",
    "            self.bmap.set_state(x,y, state) \n",
    "\n",
    "        self.attacks += len(coords)\n",
    "        self.hits += array_coords\n",
    "\n",
    "    def __str__(self):\n",
    "        return str(self.bmap)"
   ]
  },
  {
   "cell_type": "markdown",
   "metadata": {},
   "source": [
    "## randomization"
   ]
  },
  {
   "cell_type": "code",
   "execution_count": 215,
   "metadata": {},
   "outputs": [],
   "source": [
    "import random \n",
    "        \n",
    "def make_random_map(bmap: BattleshipMap, blocks: list[MapBlock], num_blocks: int):\n",
    "    assert num_blocks <= len(blocks)\n",
    "\n",
    "    randomized_blocks = random.sample(blocks, num_blocks) \n",
    "\n",
    "    confirmed_hits = list(bmap.get_confirmed_hits())\n",
    "\n",
    "    # if there's confirmed hits in the map, we have to place a block there \n",
    "    # we dropping first N block in N confirmed hits: \n",
    "    for i, constraint in enumerate(confirmed_hits): \n",
    "        # if confirmed hits change..\n",
    "        if constraint not in bmap.get_confirmed_hits():\n",
    "            continue\n",
    "\n",
    "        block = randomized_blocks[i]\n",
    "        # get coords where we can drop the block\n",
    "        drop_coords = bmap.get_constrained_drop_coords(block, [constraint])\n",
    "        # print(\"constraint\", constraint, \"droppable\", drop_coords, \"block dim\", block)\n",
    "\n",
    "        if not drop_coords:\n",
    "            return None\n",
    "        # pick a random one and drop\n",
    "        drop_coord = random.choice(drop_coords)\n",
    "        bmap.drop_block(*drop_coord, block)\n",
    "        # print(block)\n",
    "\n",
    "    for block in randomized_blocks[len(confirmed_hits):]: \n",
    "        # coin toss to determine block direction\n",
    "        direction = random.randint(0,1)\n",
    "        block.rotate(direction)\n",
    "        \n",
    "        drop_coord = None\n",
    "        # selection 1 random\n",
    "        for _ in range(5):\n",
    "            x = random.randint(0, bmap.height - 1)\n",
    "            y = random.randint(0, bmap.width - 1)\n",
    "            if bmap.is_droppable(x,y, block):\n",
    "                drop_coord = x,y\n",
    "                break\n",
    "        if not drop_coord:\n",
    "            # selection 2, get all viable\n",
    "            viable_coords = bmap.get_drop_coords(block)\n",
    "            if not viable_coords:\n",
    "                # assert 1==0, \"there isn't much map variation la?\"\n",
    "                return None\n",
    "            drop_coord = random.choice(viable_coords)\n",
    "\n",
    "        bmap.drop_block(*drop_coord, block)\n",
    "\n",
    "    return bmap\n",
    "    \n"
   ]
  },
  {
   "cell_type": "markdown",
   "metadata": {},
   "source": [
    "## set up amurta"
   ]
  },
  {
   "cell_type": "code",
   "execution_count": 223,
   "metadata": {},
   "outputs": [
    {
     "name": "stdout",
     "output_type": "stream",
     "text": [
      "[3 x 3 , 2 x 2 , 2 x 2 , 2 x 2 , 2 x 2 , 2 x 2 , 1 x 3 , 1 x 1 decoy, 1 x 1 decoy, 1 x 1 decoy, 1 x 1 decoy]\n"
     ]
    }
   ],
   "source": [
    "# set up blocks\n",
    "map_blocks = [(3,3)]*1 + [(2,2)] * 5  + [(1,3)]*1 # used to have 3\n",
    "# map_blocks =  [(1,3)]*3\n",
    "decoy_blocks = [(1,1)]*4 \n",
    "# decoy_blocks = []\n",
    "amurta_blocks = [MapBlock(*size) for size in map_blocks]  + [MapBlock(*size, is_decoy=True) for size in decoy_blocks] \n",
    "print(amurta_blocks)"
   ]
  },
  {
   "cell_type": "code",
   "execution_count": 224,
   "metadata": {},
   "outputs": [
    {
     "name": "stdout",
     "output_type": "stream",
     "text": [
      "J [0, 0, 0, 0, 0, 0, 0, 0, 0, 0]\n",
      "I [0, 0, 0, 0, 0, 0, 0, 0, 7, 0]\n",
      "H [0, 0, 7, 0, 0, 0, 7, 7, 7, 7]\n",
      "G [0, 0, 0, 7, 0, 0, 7, 1, 1, 1]\n",
      "F [0, 0, 0, 0, 0, 0, 0, 0, 0, 0]\n",
      "E [0, 0, 0, 1, 1, 1, 0, 0, 0, 0]\n",
      "D [0, 0, 0, 0, 0, 0, 0, 0, 0, 0]\n",
      "C [0, 0, 0, 0, 0, 7, 0, 7, 0, 0]\n",
      "B [0, 0, 0, 7, 7, 0, 0, 0, 0, 0]\n",
      "A [0, 0, 0, 0, 0, 7, 0, 0, 0, 0]\n",
      "   1, 2, 3, 4, 5, 6, 7, 8, 9, 10 \n"
     ]
    }
   ],
   "source": [
    "amurta_structures = [('E',4), ('E',5), ('E',6), ('G',8),('G',9),('G',10)]\n",
    "amurta_hits = [('G',4), ('G',7),  \n",
    "            ('H',3), ('H',7), ('H',8),('H',9), ('H',10),\n",
    "               ('I',9),\n",
    "           ('C',6), ('C',8), ('B',4),('B',5), \n",
    "               ('A',6)]\n",
    "\n",
    "amurta = Battle(amurta_blocks)\n",
    "\n",
    "amurta.add_structure(amurta_structures)\n",
    "amurta.add_hit(amurta_hits)\n",
    "print(amurta)"
   ]
  },
  {
   "cell_type": "markdown",
   "metadata": {},
   "source": [
    "### update hit"
   ]
  },
  {
   "cell_type": "code",
   "execution_count": 225,
   "metadata": {},
   "outputs": [
    {
     "name": "stdout",
     "output_type": "stream",
     "text": [
      "J [0, 0, 0, 0, 0, 0, 0, 0, 0, 0]\n",
      "I [0, 9, 0, 0, 9, 0, 0, 0, 7, 0]\n",
      "H [0, 0, 8, 8, 0, 0, 7, 7, 7, 7]\n",
      "G [0, 0, 8, 7, 0, 0, 7, 1, 1, 1]\n",
      "F [0, 0, 0, 0, 0, 0, 0, 0, 0, 0]\n",
      "E [0, 0, 0, 1, 1, 1, 0, 0, 0, 0]\n",
      "D [0, 0, 0, 0, 0, 0, 0, 0, 0, 0]\n",
      "C [0, 0, 0, 0, 0, 7, 0, 9, 0, 0]\n",
      "B [0, 0, 0, 7, 7, 0, 0, 0, 0, 0]\n",
      "A [0, 0, 0, 0, 0, 7, 0, 0, 0, 0]\n",
      "   1, 2, 3, 4, 5, 6, 7, 8, 9, 10 \n"
     ]
    }
   ],
   "source": [
    "last_hit = [('I',3),('I',4),('H',2),('G',2)] # TODO\n",
    "hit_miss = [('C',8), ('I',5), ('I',2)]\n",
    "hit_confirmed = [ ('H',3), ('G',3), ('H',4),]\n",
    "\n",
    "amurta.add_self_hit(hit_miss, miss=True)\n",
    "amurta.add_self_hit(hit_confirmed, miss=False) \n",
    " \n",
    "# check map\n",
    "print(amurta)"
   ]
  },
  {
   "cell_type": "markdown",
   "metadata": {},
   "source": [
    "### run map gen"
   ]
  },
  {
   "cell_type": "code",
   "execution_count": 226,
   "metadata": {},
   "outputs": [
    {
     "name": "stderr",
     "output_type": "stream",
     "text": [
      "100%|█████████████████████████████████████████████| 100000/100000 [01:22<00:00, 1205.85it/s]\n"
     ]
    }
   ],
   "source": [
    "\n",
    "import numpy as np  \n",
    "from tqdm import tqdm\n",
    "randomized_maps: list[BattleshipMap] = list()\n",
    "normalized_maps = list()\n",
    "\n",
    "\n",
    "num_maps = 10**6 #10**6\n",
    "num_maps = 10**5\n",
    "# num_maps = 5\n",
    "for i in tqdm(range(num_maps)):\n",
    "    res = make_random_map(deepcopy(amurta.bmap), amurta_blocks, len(amurta_blocks))\n",
    "    if res:\n",
    "        # randomized_maps.append(res)\n",
    "        # print(res)\n",
    "        normalized_maps.append(res.get_normalized_map())\n",
    "\n",
    "# 1000 = 0.2 \n",
    "# 100,000 = 25.9s\n",
    "# normalize probabllity (7/2 mark as 0) "
   ]
  },
  {
   "cell_type": "code",
   "execution_count": 227,
   "metadata": {},
   "outputs": [],
   "source": [
    "# randomized_maps"
   ]
  },
  {
   "cell_type": "code",
   "execution_count": 228,
   "metadata": {},
   "outputs": [
    {
     "data": {
      "text/plain": [
       "93626"
      ]
     },
     "execution_count": 228,
     "metadata": {},
     "output_type": "execute_result"
    }
   ],
   "source": [
    "# normalized_maps = [x for x in normalized_maps if x!=None]\n",
    "len(normalized_maps)"
   ]
  },
  {
   "cell_type": "code",
   "execution_count": 229,
   "metadata": {},
   "outputs": [
    {
     "data": {
      "text/plain": [
       "[array([[0, 0, 0, 0, 0, 0, 0, 0, 0, 0],\n",
       "        [0, 0, 0, 0, 0, 0, 0, 0, 0, 0],\n",
       "        [0, 1, 1, 1, 0, 0, 0, 0, 0, 0],\n",
       "        [0, 1, 1, 1, 1, 1, 0, 1, 1, 1],\n",
       "        [0, 1, 1, 1, 1, 1, 0, 1, 0, 0],\n",
       "        [0, 0, 0, 1, 1, 1, 0, 1, 1, 1],\n",
       "        [0, 0, 0, 0, 0, 0, 0, 1, 1, 1],\n",
       "        [0, 0, 0, 0, 0, 1, 1, 0, 0, 0],\n",
       "        [1, 1, 0, 0, 0, 1, 1, 0, 0, 0],\n",
       "        [1, 1, 0, 0, 0, 0, 0, 0, 0, 0]]),\n",
       " array([[0, 0, 0, 0, 0, 0, 0, 0, 0, 0],\n",
       "        [0, 0, 0, 0, 0, 0, 0, 0, 0, 0],\n",
       "        [0, 0, 1, 1, 1, 0, 0, 0, 0, 0],\n",
       "        [1, 1, 1, 1, 1, 0, 0, 1, 1, 1],\n",
       "        [1, 1, 1, 1, 1, 0, 0, 0, 1, 1],\n",
       "        [0, 0, 0, 1, 1, 1, 1, 1, 1, 1],\n",
       "        [0, 0, 0, 0, 0, 0, 1, 1, 0, 0],\n",
       "        [0, 1, 1, 0, 0, 0, 0, 0, 0, 0],\n",
       "        [0, 1, 1, 0, 0, 0, 0, 0, 0, 0],\n",
       "        [0, 0, 0, 0, 1, 1, 1, 0, 0, 0]]),\n",
       " array([[0, 0, 0, 0, 0, 0, 0, 0, 0, 0],\n",
       "        [0, 0, 0, 0, 0, 0, 1, 1, 0, 0],\n",
       "        [0, 1, 1, 1, 0, 0, 1, 1, 0, 0],\n",
       "        [0, 1, 1, 1, 0, 0, 0, 1, 1, 1],\n",
       "        [0, 1, 1, 1, 0, 0, 0, 1, 1, 0],\n",
       "        [0, 1, 1, 1, 1, 1, 0, 1, 1, 0],\n",
       "        [0, 1, 1, 0, 0, 0, 0, 0, 0, 0],\n",
       "        [0, 0, 0, 1, 1, 0, 0, 0, 0, 0],\n",
       "        [0, 0, 0, 1, 1, 0, 0, 1, 1, 0],\n",
       "        [0, 0, 0, 0, 0, 0, 0, 1, 1, 0]]),\n",
       " array([[0, 0, 0, 0, 0, 0, 0, 0, 0, 0],\n",
       "        [0, 0, 1, 1, 0, 0, 0, 0, 0, 0],\n",
       "        [0, 0, 1, 1, 0, 0, 0, 0, 0, 0],\n",
       "        [0, 0, 1, 1, 0, 0, 0, 1, 1, 1],\n",
       "        [1, 0, 1, 1, 0, 0, 0, 0, 0, 0],\n",
       "        [1, 0, 0, 1, 1, 1, 0, 0, 0, 0],\n",
       "        [1, 0, 0, 0, 0, 0, 0, 0, 1, 1],\n",
       "        [0, 0, 1, 1, 0, 0, 0, 0, 1, 1],\n",
       "        [0, 0, 1, 1, 1, 1, 0, 0, 0, 0],\n",
       "        [0, 0, 0, 0, 1, 1, 0, 0, 0, 0]]),\n",
       " array([[0, 0, 0, 0, 0, 0, 0, 1, 1, 0],\n",
       "        [0, 0, 0, 0, 0, 0, 0, 1, 1, 0],\n",
       "        [0, 1, 1, 1, 1, 0, 0, 0, 0, 0],\n",
       "        [0, 1, 1, 1, 1, 0, 0, 1, 1, 1],\n",
       "        [1, 1, 0, 0, 0, 0, 1, 1, 1, 0],\n",
       "        [1, 1, 0, 1, 1, 1, 1, 1, 1, 0],\n",
       "        [0, 0, 0, 0, 1, 0, 1, 1, 1, 0],\n",
       "        [0, 0, 0, 0, 1, 0, 0, 0, 0, 0],\n",
       "        [0, 0, 0, 0, 1, 0, 1, 1, 0, 0],\n",
       "        [0, 0, 0, 0, 0, 0, 1, 1, 0, 0]])]"
      ]
     },
     "execution_count": 229,
     "metadata": {},
     "output_type": "execute_result"
    }
   ],
   "source": [
    "normalized_maps[0:5]"
   ]
  },
  {
   "cell_type": "code",
   "execution_count": 230,
   "metadata": {},
   "outputs": [],
   "source": [
    "import pandas\n",
    "# convert to a dataframe\n",
    "prob_map = sum(normalized_maps)/len(normalized_maps)\n",
    "with np.printoptions(precision=3):\n",
    "    row_labels = [chr(i) for i in range(74,64,-1)]\n",
    "    column_labels = map(str, range(1,11))\n",
    "    df = pandas.DataFrame(prob_map, columns=column_labels, index=row_labels) "
   ]
  },
  {
   "cell_type": "code",
   "execution_count": 231,
   "metadata": {},
   "outputs": [
    {
     "data": {
      "text/html": [
       "<style type=\"text/css\">\n",
       "#T_2dd53_row0_col0, #T_2dd53_row0_col1, #T_2dd53_row0_col2, #T_2dd53_row0_col3, #T_2dd53_row0_col4, #T_2dd53_row0_col5, #T_2dd53_row0_col6, #T_2dd53_row0_col7, #T_2dd53_row0_col8, #T_2dd53_row0_col9, #T_2dd53_row1_col0, #T_2dd53_row1_col2, #T_2dd53_row1_col3, #T_2dd53_row1_col5, #T_2dd53_row1_col6, #T_2dd53_row1_col9, #T_2dd53_row2_col0, #T_2dd53_row2_col1, #T_2dd53_row2_col4, #T_2dd53_row2_col5, #T_2dd53_row3_col0, #T_2dd53_row3_col5, #T_2dd53_row4_col0, #T_2dd53_row4_col3, #T_2dd53_row4_col4, #T_2dd53_row4_col5, #T_2dd53_row4_col6, #T_2dd53_row4_col7, #T_2dd53_row4_col8, #T_2dd53_row4_col9, #T_2dd53_row5_col0, #T_2dd53_row5_col1, #T_2dd53_row5_col2, #T_2dd53_row5_col6, #T_2dd53_row5_col7, #T_2dd53_row5_col8, #T_2dd53_row5_col9, #T_2dd53_row6_col0, #T_2dd53_row6_col1, #T_2dd53_row6_col2, #T_2dd53_row6_col3, #T_2dd53_row6_col4, #T_2dd53_row6_col5, #T_2dd53_row6_col6, #T_2dd53_row6_col7, #T_2dd53_row6_col8, #T_2dd53_row6_col9, #T_2dd53_row7_col0, #T_2dd53_row7_col3, #T_2dd53_row7_col6, #T_2dd53_row7_col8, #T_2dd53_row7_col9, #T_2dd53_row8_col0, #T_2dd53_row8_col1, #T_2dd53_row8_col5, #T_2dd53_row8_col6, #T_2dd53_row8_col7, #T_2dd53_row8_col8, #T_2dd53_row8_col9, #T_2dd53_row9_col0, #T_2dd53_row9_col1, #T_2dd53_row9_col2, #T_2dd53_row9_col3, #T_2dd53_row9_col4, #T_2dd53_row9_col6, #T_2dd53_row9_col7, #T_2dd53_row9_col8, #T_2dd53_row9_col9 {\n",
       "  background-color: #75454f;\n",
       "}\n",
       "#T_2dd53_row1_col1, #T_2dd53_row1_col4, #T_2dd53_row1_col8, #T_2dd53_row2_col6, #T_2dd53_row2_col7, #T_2dd53_row2_col8, #T_2dd53_row2_col9, #T_2dd53_row3_col6, #T_2dd53_row7_col5, #T_2dd53_row7_col7, #T_2dd53_row8_col3, #T_2dd53_row9_col5 {\n",
       "  background-color: #75454f;\n",
       "  background-color: #333333;\n",
       "}\n",
       "#T_2dd53_row1_col7, #T_2dd53_row3_col1, #T_2dd53_row3_col4, #T_2dd53_row4_col1, #T_2dd53_row4_col2, #T_2dd53_row7_col1, #T_2dd53_row7_col2, #T_2dd53_row7_col4, #T_2dd53_row8_col2 {\n",
       "  background-color: green;\n",
       "}\n",
       "#T_2dd53_row2_col2, #T_2dd53_row2_col3, #T_2dd53_row3_col2, #T_2dd53_row3_col3, #T_2dd53_row8_col4 {\n",
       "  background-color: green;\n",
       "  background-color: #333333;\n",
       "}\n",
       "#T_2dd53_row3_col7, #T_2dd53_row3_col8, #T_2dd53_row3_col9, #T_2dd53_row5_col3, #T_2dd53_row5_col4, #T_2dd53_row5_col5 {\n",
       "  background-color: #75454f;\n",
       "  background-color: #000000;\n",
       "}\n",
       "</style>\n",
       "<table id=\"T_2dd53\">\n",
       "  <thead>\n",
       "    <tr>\n",
       "      <th class=\"blank level0\" >&nbsp;</th>\n",
       "      <th id=\"T_2dd53_level0_col0\" class=\"col_heading level0 col0\" >1</th>\n",
       "      <th id=\"T_2dd53_level0_col1\" class=\"col_heading level0 col1\" >2</th>\n",
       "      <th id=\"T_2dd53_level0_col2\" class=\"col_heading level0 col2\" >3</th>\n",
       "      <th id=\"T_2dd53_level0_col3\" class=\"col_heading level0 col3\" >4</th>\n",
       "      <th id=\"T_2dd53_level0_col4\" class=\"col_heading level0 col4\" >5</th>\n",
       "      <th id=\"T_2dd53_level0_col5\" class=\"col_heading level0 col5\" >6</th>\n",
       "      <th id=\"T_2dd53_level0_col6\" class=\"col_heading level0 col6\" >7</th>\n",
       "      <th id=\"T_2dd53_level0_col7\" class=\"col_heading level0 col7\" >8</th>\n",
       "      <th id=\"T_2dd53_level0_col8\" class=\"col_heading level0 col8\" >9</th>\n",
       "      <th id=\"T_2dd53_level0_col9\" class=\"col_heading level0 col9\" >10</th>\n",
       "    </tr>\n",
       "  </thead>\n",
       "  <tbody>\n",
       "    <tr>\n",
       "      <th id=\"T_2dd53_level0_row0\" class=\"row_heading level0 row0\" >J</th>\n",
       "      <td id=\"T_2dd53_row0_col0\" class=\"data row0 col0\" >0.019</td>\n",
       "      <td id=\"T_2dd53_row0_col1\" class=\"data row0 col1\" >0.018</td>\n",
       "      <td id=\"T_2dd53_row0_col2\" class=\"data row0 col2\" >0.113</td>\n",
       "      <td id=\"T_2dd53_row0_col3\" class=\"data row0 col3\" >0.113</td>\n",
       "      <td id=\"T_2dd53_row0_col4\" class=\"data row0 col4\" >0.027</td>\n",
       "      <td id=\"T_2dd53_row0_col5\" class=\"data row0 col5\" >0.171</td>\n",
       "      <td id=\"T_2dd53_row0_col6\" class=\"data row0 col6\" >0.294</td>\n",
       "      <td id=\"T_2dd53_row0_col7\" class=\"data row0 col7\" >0.342</td>\n",
       "      <td id=\"T_2dd53_row0_col8\" class=\"data row0 col8\" >0.296</td>\n",
       "      <td id=\"T_2dd53_row0_col9\" class=\"data row0 col9\" >0.166</td>\n",
       "    </tr>\n",
       "    <tr>\n",
       "      <th id=\"T_2dd53_level0_row1\" class=\"row_heading level0 row1\" >I</th>\n",
       "      <td id=\"T_2dd53_row1_col0\" class=\"data row1 col0\" >0.019</td>\n",
       "      <td id=\"T_2dd53_row1_col1\" class=\"data row1 col1\" >0.000</td>\n",
       "      <td id=\"T_2dd53_row1_col2\" class=\"data row1 col2\" >0.437</td>\n",
       "      <td id=\"T_2dd53_row1_col3\" class=\"data row1 col3\" >0.436</td>\n",
       "      <td id=\"T_2dd53_row1_col4\" class=\"data row1 col4\" >0.000</td>\n",
       "      <td id=\"T_2dd53_row1_col5\" class=\"data row1 col5\" >0.235</td>\n",
       "      <td id=\"T_2dd53_row1_col6\" class=\"data row1 col6\" >0.439</td>\n",
       "      <td id=\"T_2dd53_row1_col7\" class=\"data row1 col7\" >0.490</td>\n",
       "      <td id=\"T_2dd53_row1_col8\" class=\"data row1 col8\" >0.461</td>\n",
       "      <td id=\"T_2dd53_row1_col9\" class=\"data row1 col9\" >0.255</td>\n",
       "    </tr>\n",
       "    <tr>\n",
       "      <th id=\"T_2dd53_level0_row2\" class=\"row_heading level0 row2\" >H</th>\n",
       "      <td id=\"T_2dd53_row2_col0\" class=\"data row2 col0\" >0.138</td>\n",
       "      <td id=\"T_2dd53_row2_col1\" class=\"data row2 col1\" >0.393</td>\n",
       "      <td id=\"T_2dd53_row2_col2\" class=\"data row2 col2\" >0.863</td>\n",
       "      <td id=\"T_2dd53_row2_col3\" class=\"data row2 col3\" >0.858</td>\n",
       "      <td id=\"T_2dd53_row2_col4\" class=\"data row2 col4\" >0.438</td>\n",
       "      <td id=\"T_2dd53_row2_col5\" class=\"data row2 col5\" >0.376</td>\n",
       "      <td id=\"T_2dd53_row2_col6\" class=\"data row2 col6\" >0.391</td>\n",
       "      <td id=\"T_2dd53_row2_col7\" class=\"data row2 col7\" >0.322</td>\n",
       "      <td id=\"T_2dd53_row2_col8\" class=\"data row2 col8\" >0.283</td>\n",
       "      <td id=\"T_2dd53_row2_col9\" class=\"data row2 col9\" >0.159</td>\n",
       "    </tr>\n",
       "    <tr>\n",
       "      <th id=\"T_2dd53_level0_row3\" class=\"row_heading level0 row3\" >G</th>\n",
       "      <td id=\"T_2dd53_row3_col0\" class=\"data row3 col0\" >0.240</td>\n",
       "      <td id=\"T_2dd53_row3_col1\" class=\"data row3 col1\" >0.644</td>\n",
       "      <td id=\"T_2dd53_row3_col2\" class=\"data row3 col2\" >0.847</td>\n",
       "      <td id=\"T_2dd53_row3_col3\" class=\"data row3 col3\" >0.637</td>\n",
       "      <td id=\"T_2dd53_row3_col4\" class=\"data row3 col4\" >0.523</td>\n",
       "      <td id=\"T_2dd53_row3_col5\" class=\"data row3 col5\" >0.372</td>\n",
       "      <td id=\"T_2dd53_row3_col6\" class=\"data row3 col6\" >0.224</td>\n",
       "      <td id=\"T_2dd53_row3_col7\" class=\"data row3 col7\" >1.000</td>\n",
       "      <td id=\"T_2dd53_row3_col8\" class=\"data row3 col8\" >1.000</td>\n",
       "      <td id=\"T_2dd53_row3_col9\" class=\"data row3 col9\" >1.000</td>\n",
       "    </tr>\n",
       "    <tr>\n",
       "      <th id=\"T_2dd53_level0_row4\" class=\"row_heading level0 row4\" >F</th>\n",
       "      <td id=\"T_2dd53_row4_col0\" class=\"data row4 col0\" >0.271</td>\n",
       "      <td id=\"T_2dd53_row4_col1\" class=\"data row4 col1\" >0.507</td>\n",
       "      <td id=\"T_2dd53_row4_col2\" class=\"data row4 col2\" >0.598</td>\n",
       "      <td id=\"T_2dd53_row4_col3\" class=\"data row4 col3\" >0.317</td>\n",
       "      <td id=\"T_2dd53_row4_col4\" class=\"data row4 col4\" >0.245</td>\n",
       "      <td id=\"T_2dd53_row4_col5\" class=\"data row4 col5\" >0.246</td>\n",
       "      <td id=\"T_2dd53_row4_col6\" class=\"data row4 col6\" >0.295</td>\n",
       "      <td id=\"T_2dd53_row4_col7\" class=\"data row4 col7\" >0.298</td>\n",
       "      <td id=\"T_2dd53_row4_col8\" class=\"data row4 col8\" >0.297</td>\n",
       "      <td id=\"T_2dd53_row4_col9\" class=\"data row4 col9\" >0.160</td>\n",
       "    </tr>\n",
       "    <tr>\n",
       "      <th id=\"T_2dd53_level0_row5\" class=\"row_heading level0 row5\" >E</th>\n",
       "      <td id=\"T_2dd53_row5_col0\" class=\"data row5 col0\" >0.298</td>\n",
       "      <td id=\"T_2dd53_row5_col1\" class=\"data row5 col1\" >0.403</td>\n",
       "      <td id=\"T_2dd53_row5_col2\" class=\"data row5 col2\" >0.283</td>\n",
       "      <td id=\"T_2dd53_row5_col3\" class=\"data row5 col3\" >1.000</td>\n",
       "      <td id=\"T_2dd53_row5_col4\" class=\"data row5 col4\" >1.000</td>\n",
       "      <td id=\"T_2dd53_row5_col5\" class=\"data row5 col5\" >1.000</td>\n",
       "      <td id=\"T_2dd53_row5_col6\" class=\"data row5 col6\" >0.244</td>\n",
       "      <td id=\"T_2dd53_row5_col7\" class=\"data row5 col7\" >0.446</td>\n",
       "      <td id=\"T_2dd53_row5_col8\" class=\"data row5 col8\" >0.462</td>\n",
       "      <td id=\"T_2dd53_row5_col9\" class=\"data row5 col9\" >0.252</td>\n",
       "    </tr>\n",
       "    <tr>\n",
       "      <th id=\"T_2dd53_level0_row6\" class=\"row_heading level0 row6\" >D</th>\n",
       "      <td id=\"T_2dd53_row6_col0\" class=\"data row6 col0\" >0.287</td>\n",
       "      <td id=\"T_2dd53_row6_col1\" class=\"data row6 col1\" >0.451</td>\n",
       "      <td id=\"T_2dd53_row6_col2\" class=\"data row6 col2\" >0.402</td>\n",
       "      <td id=\"T_2dd53_row6_col3\" class=\"data row6 col3\" >0.252</td>\n",
       "      <td id=\"T_2dd53_row6_col4\" class=\"data row6 col4\" >0.272</td>\n",
       "      <td id=\"T_2dd53_row6_col5\" class=\"data row6 col5\" >0.251</td>\n",
       "      <td id=\"T_2dd53_row6_col6\" class=\"data row6 col6\" >0.292</td>\n",
       "      <td id=\"T_2dd53_row6_col7\" class=\"data row6 col7\" >0.290</td>\n",
       "      <td id=\"T_2dd53_row6_col8\" class=\"data row6 col8\" >0.387</td>\n",
       "      <td id=\"T_2dd53_row6_col9\" class=\"data row6 col9\" >0.260</td>\n",
       "    </tr>\n",
       "    <tr>\n",
       "      <th id=\"T_2dd53_level0_row7\" class=\"row_heading level0 row7\" >C</th>\n",
       "      <td id=\"T_2dd53_row7_col0\" class=\"data row7 col0\" >0.298</td>\n",
       "      <td id=\"T_2dd53_row7_col1\" class=\"data row7 col1\" >0.487</td>\n",
       "      <td id=\"T_2dd53_row7_col2\" class=\"data row7 col2\" >0.528</td>\n",
       "      <td id=\"T_2dd53_row7_col3\" class=\"data row7 col3\" >0.473</td>\n",
       "      <td id=\"T_2dd53_row7_col4\" class=\"data row7 col4\" >0.508</td>\n",
       "      <td id=\"T_2dd53_row7_col5\" class=\"data row7 col5\" >0.459</td>\n",
       "      <td id=\"T_2dd53_row7_col6\" class=\"data row7 col6\" >0.261</td>\n",
       "      <td id=\"T_2dd53_row7_col7\" class=\"data row7 col7\" >0.000</td>\n",
       "      <td id=\"T_2dd53_row7_col8\" class=\"data row7 col8\" >0.204</td>\n",
       "      <td id=\"T_2dd53_row7_col9\" class=\"data row7 col9\" >0.208</td>\n",
       "    </tr>\n",
       "    <tr>\n",
       "      <th id=\"T_2dd53_level0_row8\" class=\"row_heading level0 row8\" >B</th>\n",
       "      <td id=\"T_2dd53_row8_col0\" class=\"data row8 col0\" >0.262</td>\n",
       "      <td id=\"T_2dd53_row8_col1\" class=\"data row8 col1\" >0.462</td>\n",
       "      <td id=\"T_2dd53_row8_col2\" class=\"data row8 col2\" >0.497</td>\n",
       "      <td id=\"T_2dd53_row8_col3\" class=\"data row8 col3\" >0.477</td>\n",
       "      <td id=\"T_2dd53_row8_col4\" class=\"data row8 col4\" >0.504</td>\n",
       "      <td id=\"T_2dd53_row8_col5\" class=\"data row8 col5\" >0.467</td>\n",
       "      <td id=\"T_2dd53_row8_col6\" class=\"data row8 col6\" >0.359</td>\n",
       "      <td id=\"T_2dd53_row8_col7\" class=\"data row8 col7\" >0.207</td>\n",
       "      <td id=\"T_2dd53_row8_col8\" class=\"data row8 col8\" >0.320</td>\n",
       "      <td id=\"T_2dd53_row8_col9\" class=\"data row8 col9\" >0.220</td>\n",
       "    </tr>\n",
       "    <tr>\n",
       "      <th id=\"T_2dd53_level0_row9\" class=\"row_heading level0 row9\" >A</th>\n",
       "      <td id=\"T_2dd53_row9_col0\" class=\"data row9 col0\" >0.145</td>\n",
       "      <td id=\"T_2dd53_row9_col1\" class=\"data row9 col1\" >0.258</td>\n",
       "      <td id=\"T_2dd53_row9_col2\" class=\"data row9 col2\" >0.280</td>\n",
       "      <td id=\"T_2dd53_row9_col3\" class=\"data row9 col3\" >0.264</td>\n",
       "      <td id=\"T_2dd53_row9_col4\" class=\"data row9 col4\" >0.275</td>\n",
       "      <td id=\"T_2dd53_row9_col5\" class=\"data row9 col5\" >0.257</td>\n",
       "      <td id=\"T_2dd53_row9_col6\" class=\"data row9 col6\" >0.243</td>\n",
       "      <td id=\"T_2dd53_row9_col7\" class=\"data row9 col7\" >0.210</td>\n",
       "      <td id=\"T_2dd53_row9_col8\" class=\"data row9 col8\" >0.220</td>\n",
       "      <td id=\"T_2dd53_row9_col9\" class=\"data row9 col9\" >0.117</td>\n",
       "    </tr>\n",
       "  </tbody>\n",
       "</table>\n"
      ],
      "text/plain": [
       "<pandas.io.formats.style.Styler at 0x1ff179b5490>"
      ]
     },
     "execution_count": 231,
     "metadata": {},
     "output_type": "execute_result"
    }
   ],
   "source": [
    "# print with color\n",
    "\n",
    "def _color_hit(df):\n",
    "    color = 'background-color: #333333'\n",
    "    df1 = pd.DataFrame('', index=df.index, columns=df.columns) \n",
    "    for c in amurta.hits:\n",
    "        df1.iloc[c] = color\n",
    "    \n",
    "    color = 'background-color: #000000'\n",
    "    for c in amurta.structure:\n",
    "        df1.iloc[c] = color\n",
    "    return df1 \n",
    "\n",
    "def _color_red_or_green(val):\n",
    "    color = '#75454f' if val < 0.48 or val >= 1 else 'green'\n",
    "    return 'background-color: %s' % color\n",
    "\n",
    "# style = df.style.format(precision=3).\n",
    "style = df.style.format(precision=3).applymap(_color_red_or_green).apply(_color_hit, axis=None)\n",
    "style"
   ]
  },
  {
   "cell_type": "code",
   "execution_count": 142,
   "metadata": {},
   "outputs": [
    {
     "data": {
      "text/plain": [
       "0"
      ]
     },
     "execution_count": 142,
     "metadata": {},
     "output_type": "execute_result"
    }
   ],
   "source": [
    "# attacks\n",
    "# c8 misss\n",
    "# h3 ???\n",
    "attacks = amurta.attacks\n",
    "attacks"
   ]
  },
  {
   "cell_type": "code",
   "execution_count": 67,
   "metadata": {
    "editable": true,
    "slideshow": {
     "slide_type": ""
    },
    "tags": []
   },
   "outputs": [],
   "source": [
    "import os\n",
    "import dataframe_image as dfi\n",
    " \n",
    "# df.to_csv('battleship_df/amurta/attack2_hit.csv', index=False)\n",
    "dfi.export(style, f'battleship_df/amurta/attack{attacks}_hit.png', table_conversion='selenium')"
   ]
  },
  {
   "cell_type": "markdown",
   "metadata": {
    "editable": true,
    "slideshow": {
     "slide_type": ""
    },
    "tags": []
   },
   "source": [
    "### vahumana"
   ]
  },
  {
   "cell_type": "code",
   "execution_count": null,
   "metadata": {},
   "outputs": [],
   "source": [
    " \n",
    "randomized_maps: list[BattleshipMap] = list()\n",
    "for i in range(2):\n",
    "    res = make_random_map(deepcopy(vahumana), vahumana_blocks, len(vahumana_blocks))\n",
    "    if res:\n",
    "        randomized_maps.append( res)\n",
    "# 1000 = 2.2s\n",
    "# randomized\n",
    "# 100,000 = 25.9s"
   ]
  },
  {
   "cell_type": "code",
   "execution_count": null,
   "metadata": {},
   "outputs": [],
   "source": [
    "import numpy as np \n",
    "# normalize probabllity (7/2 mark as 0)\n",
    "normalized_maps = list()\n",
    "for m in randomized_maps:\n",
    "    np_map = np.array(m.map)\n",
    "    np_map = np.where((np_map==2) |(np_map==7), 0, np_map) \n",
    "    normalized_maps.append(np_map)"
   ]
  },
  {
   "cell_type": "code",
   "execution_count": null,
   "metadata": {},
   "outputs": [
    {
     "name": "stdout",
     "output_type": "stream",
     "text": [
      "[[0.146 0.249 0.261 0.258 0.258 0.259 0.259 0.264 0.231 0.149]\n",
      " [0.251 0.416 0.411 0.405 0.403 0.402 0.401 0.409 0.397 0.254]\n",
      " [0.276 0.412 0.41  0.4   0.41  0.399 0.396 0.403 0.391 0.266]\n",
      " [0.201 0.245 0.26  0.249 0.355 0.406 0.393 0.397 0.404 0.261]\n",
      " [0.092 1.    1.    1.    0.251 0.398 0.397 0.397 0.403 0.26 ]\n",
      " [0.093 1.    1.    1.    0.258 0.403 0.398 0.397 0.403 0.26 ]\n",
      " [0.092 1.    1.    1.    0.251 0.397 0.396 0.396 0.401 0.26 ]\n",
      " [0.206 0.252 0.265 0.254 0.359 0.409 0.397 0.4   0.407 0.263]\n",
      " [0.265 0.42  0.418 0.406 0.415 0.403 0.402 0.407 0.413 0.25 ]\n",
      " [0.149 0.255 0.267 0.263 0.259 0.258 0.258 0.262 0.25  0.147]]\n",
      "[ 1  2  3  4  5  6  7  8  9 10]\n"
     ]
    }
   ],
   "source": [
    "prob_map = sum(normalized_maps)/2316602\n",
    "with np.printoptions(precision=3):\n",
    "    print(prob_map)\n",
    "    print(np.array(range(1,11)))\n",
    "\n",
    "\n"
   ]
  },
  {
   "cell_type": "code",
   "execution_count": null,
   "metadata": {},
   "outputs": [
    {
     "data": {
      "text/plain": [
       "(8, 1)"
      ]
     },
     "metadata": {},
     "output_type": "display_data"
    }
   ],
   "source": [
    "cleaned_prob = np.where((prob_map==1), 0, prob_map) \n",
    "max_index = cleaned_prob.argmax()\n",
    "np.unravel_index(max_index, cleaned_prob.shape)"
   ]
  },
  {
   "cell_type": "code",
   "execution_count": null,
   "metadata": {},
   "outputs": [
    {
     "data": {
      "text/plain": [
       "array([[9, 0, 8, 1, 5, 6, 4, 7, 3, 2],\n",
       "       [9, 0, 6, 5, 3, 7, 8, 4, 2, 1],\n",
       "       [0, 1, 3, 9, 4, 6, 7, 8, 5, 2]])"
      ]
     },
     "metadata": {},
     "output_type": "display_data"
    }
   ],
   "source": [
    "normalized_maps.argsort()[-3:][::-1]"
   ]
  },
  {
   "cell_type": "markdown",
   "metadata": {
    "jp-MarkdownHeadingCollapsed": true
   },
   "source": [
    "### find all arrangement"
   ]
  },
  {
   "cell_type": "code",
   "execution_count": null,
   "metadata": {},
   "outputs": [
    {
     "ename": "KeyboardInterrupt",
     "evalue": "",
     "output_type": "error",
     "traceback": [
      "\u001b[0;31m---------------------------------------------------------------------------\u001b[0m\n",
      "\u001b[0;31mKeyboardInterrupt\u001b[0m                         Traceback (most recent call last)\n",
      "Cell \u001b[0;32mIn[100], line 3\u001b[0m\n",
      "\u001b[1;32m      1\u001b[0m all_maps \u001b[38;5;241m=\u001b[39m \u001b[38;5;28mlist\u001b[39m()\n",
      "\u001b[1;32m      2\u001b[0m past_blocks_data \u001b[38;5;241m=\u001b[39m \u001b[38;5;28mset\u001b[39m()\n",
      "\u001b[0;32m----> 3\u001b[0m \u001b[43mfit_block\u001b[49m\u001b[43m(\u001b[49m\u001b[43mvahumana\u001b[49m\u001b[43m,\u001b[49m\u001b[43m \u001b[49m\u001b[43mvahumana_blocks\u001b[49m\u001b[43m)\u001b[49m \n",
      "\u001b[1;32m      4\u001b[0m \u001b[38;5;28mlen\u001b[39m(all_maps)\n",
      "\n",
      "Cell \u001b[0;32mIn[69], line 43\u001b[0m, in \u001b[0;36mfit_block\u001b[0;34m(bmap, blocks)\u001b[0m\n",
      "\u001b[1;32m     40\u001b[0m \u001b[38;5;66;03m# memoization\u001b[39;00m\n",
      "\u001b[1;32m     41\u001b[0m past_blocks_data\u001b[38;5;241m.\u001b[39madd( (bmap, \u001b[38;5;28mtuple\u001b[39m(blocks)))\n",
      "\u001b[0;32m---> 43\u001b[0m \u001b[43mfit_block\u001b[49m\u001b[43m(\u001b[49m\u001b[43mbmap\u001b[49m\u001b[43m,\u001b[49m\u001b[43m \u001b[49m\u001b[43mblocks\u001b[49m\u001b[43m)\u001b[49m\n",
      "\u001b[1;32m     45\u001b[0m \u001b[38;5;66;03m# return to original state\u001b[39;00m\n",
      "\u001b[1;32m     46\u001b[0m \u001b[38;5;28;01mfor\u001b[39;00m x,y \u001b[38;5;129;01min\u001b[39;00m coords:\n",
      "\n",
      "Cell \u001b[0;32mIn[69], line 43\u001b[0m, in \u001b[0;36mfit_block\u001b[0;34m(bmap, blocks)\u001b[0m\n",
      "\u001b[1;32m     40\u001b[0m \u001b[38;5;66;03m# memoization\u001b[39;00m\n",
      "\u001b[1;32m     41\u001b[0m past_blocks_data\u001b[38;5;241m.\u001b[39madd( (bmap, \u001b[38;5;28mtuple\u001b[39m(blocks)))\n",
      "\u001b[0;32m---> 43\u001b[0m \u001b[43mfit_block\u001b[49m\u001b[43m(\u001b[49m\u001b[43mbmap\u001b[49m\u001b[43m,\u001b[49m\u001b[43m \u001b[49m\u001b[43mblocks\u001b[49m\u001b[43m)\u001b[49m\n",
      "\u001b[1;32m     45\u001b[0m \u001b[38;5;66;03m# return to original state\u001b[39;00m\n",
      "\u001b[1;32m     46\u001b[0m \u001b[38;5;28;01mfor\u001b[39;00m x,y \u001b[38;5;129;01min\u001b[39;00m coords:\n",
      "\n",
      "    \u001b[0;31m[... skipping similar frames: fit_block at line 43 (8 times)]\u001b[0m\n",
      "\n",
      "Cell \u001b[0;32mIn[69], line 43\u001b[0m, in \u001b[0;36mfit_block\u001b[0;34m(bmap, blocks)\u001b[0m\n",
      "\u001b[1;32m     40\u001b[0m \u001b[38;5;66;03m# memoization\u001b[39;00m\n",
      "\u001b[1;32m     41\u001b[0m past_blocks_data\u001b[38;5;241m.\u001b[39madd( (bmap, \u001b[38;5;28mtuple\u001b[39m(blocks)))\n",
      "\u001b[0;32m---> 43\u001b[0m \u001b[43mfit_block\u001b[49m\u001b[43m(\u001b[49m\u001b[43mbmap\u001b[49m\u001b[43m,\u001b[49m\u001b[43m \u001b[49m\u001b[43mblocks\u001b[49m\u001b[43m)\u001b[49m\n",
      "\u001b[1;32m     45\u001b[0m \u001b[38;5;66;03m# return to original state\u001b[39;00m\n",
      "\u001b[1;32m     46\u001b[0m \u001b[38;5;28;01mfor\u001b[39;00m x,y \u001b[38;5;129;01min\u001b[39;00m coords:\n",
      "\n",
      "Cell \u001b[0;32mIn[69], line 38\u001b[0m, in \u001b[0;36mfit_block\u001b[0;34m(bmap, blocks)\u001b[0m\n",
      "\u001b[1;32m     36\u001b[0m \u001b[38;5;28;01mif\u001b[39;00m (bmap, \u001b[38;5;28mtuple\u001b[39m(blocks)) \u001b[38;5;129;01min\u001b[39;00m past_blocks_data:\n",
      "\u001b[1;32m     37\u001b[0m     \u001b[38;5;28;01mfor\u001b[39;00m x,y \u001b[38;5;129;01min\u001b[39;00m coords:\n",
      "\u001b[0;32m---> 38\u001b[0m         \u001b[43mbmap\u001b[49m\u001b[38;5;241;43m.\u001b[39;49m\u001b[43mset_state\u001b[49m\u001b[43m(\u001b[49m\u001b[43mx\u001b[49m\u001b[43m,\u001b[49m\u001b[43my\u001b[49m\u001b[43m,\u001b[49m\u001b[43m \u001b[49m\u001b[43mold_state\u001b[49m\u001b[43m[\u001b[49m\u001b[43m(\u001b[49m\u001b[43mx\u001b[49m\u001b[43m,\u001b[49m\u001b[43my\u001b[49m\u001b[43m)\u001b[49m\u001b[43m]\u001b[49m\u001b[43m)\u001b[49m \n",
      "\u001b[1;32m     39\u001b[0m     \u001b[38;5;28;01mcontinue\u001b[39;00m\n",
      "\u001b[1;32m     40\u001b[0m \u001b[38;5;66;03m# memoization\u001b[39;00m\n",
      "\n",
      "Cell \u001b[0;32mIn[58], line 69\u001b[0m, in \u001b[0;36mBattleshipMap.set_state\u001b[0;34m(self, x, y, map_state)\u001b[0m\n",
      "\u001b[1;32m     68\u001b[0m \u001b[38;5;28;01mdef\u001b[39;00m \u001b[38;5;21mset_state\u001b[39m(\u001b[38;5;28mself\u001b[39m, x:\u001b[38;5;28mint\u001b[39m, y:\u001b[38;5;28mint\u001b[39m, map_state: MapState):\n",
      "\u001b[0;32m---> 69\u001b[0m     \u001b[38;5;28;01mif\u001b[39;00m \u001b[38;5;28;43mself\u001b[39;49m\u001b[38;5;241;43m.\u001b[39;49m\u001b[43m_is_oob\u001b[49m\u001b[43m(\u001b[49m\u001b[43mx\u001b[49m\u001b[43m,\u001b[49m\u001b[43my\u001b[49m\u001b[43m)\u001b[49m:\n",
      "\u001b[1;32m     70\u001b[0m         \u001b[38;5;28mprint\u001b[39m(\u001b[38;5;124m\"\u001b[39m\u001b[38;5;124mout of bounds!\u001b[39m\u001b[38;5;124m\"\u001b[39m) \u001b[38;5;66;03m# honestly this shouldnt happen\u001b[39;00m\n",
      "\u001b[1;32m     71\u001b[0m         \u001b[38;5;28;01mreturn\u001b[39;00m \u001b[38;5;241m-\u001b[39m\u001b[38;5;241m1\u001b[39m\n",
      "\n",
      "\u001b[0;31mKeyboardInterrupt\u001b[0m: "
     ]
    }
   ],
   "source": [
    "all_maps = list()\n",
    "past_blocks_data = set()\n",
    "fit_block(vahumana, vahumana_blocks) \n",
    "len(all_maps)\n"
   ]
  },
  {
   "cell_type": "code",
   "execution_count": null,
   "metadata": {},
   "outputs": [],
   "source": [
    "# find all if u wanna take the time la"
   ]
  },
  {
   "cell_type": "code",
   "execution_count": 32,
   "metadata": {},
   "outputs": [
    {
     "name": "stdout",
     "output_type": "stream",
     "text": [
      "J [1, 1, 0, 0, 0, 1, 1, 1, 1, 0]\n",
      "I [1, 1, 0, 1, 1, 1, 1, 1, 1, 0]\n",
      "H [0, 1, 1, 1, 1, 1, 1, 1, 1, 0]\n",
      "G [0, 1, 1, 0, 0, 1, 1, 1, 1, 0]\n",
      "F [0, 1, 1, 1, 1, 1, 0, 0, 0, 0]\n",
      "E [0, 1, 1, 1, 1, 1, 0, 0, 0, 0]\n",
      "D [0, 1, 1, 1, 0, 0, 1, 1, 0, 0]\n",
      "C [0, 1, 1, 0, 0, 0, 1, 1, 0, 0]\n",
      "B [0, 1, 1, 0, 0, 0, 0, 0, 0, 0]\n",
      "A [0, 0, 0, 0, 0, 0, 0, 0, 0, 0]\n",
      "   1, 2, 3, 4, 5, 6, 7, 8, 9, 10 \n"
     ]
    }
   ],
   "source": [
    "for m in all_maps:\n",
    "    print(m)\n",
    "    break"
   ]
  },
  {
   "cell_type": "code",
   "execution_count": null,
   "metadata": {},
   "outputs": [],
   "source": []
  }
 ],
 "metadata": {
  "kernelspec": {
   "display_name": "Python 3 (ipykernel)",
   "language": "python",
   "name": "python3"
  },
  "language_info": {
   "codemirror_mode": {
    "name": "ipython",
    "version": 3
   },
   "file_extension": ".py",
   "mimetype": "text/x-python",
   "name": "python",
   "nbconvert_exporter": "python",
   "pygments_lexer": "ipython3",
   "version": "3.11.1"
  }
 },
 "nbformat": 4,
 "nbformat_minor": 4
}
